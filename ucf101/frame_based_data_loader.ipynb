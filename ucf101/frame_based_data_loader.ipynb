{
  "cells": [
    {
      "cell_type": "markdown",
      "metadata": {
        "colab_type": "text",
        "id": "view-in-github"
      },
      "source": [
        "<a href=\"https://colab.research.google.com/github/samsambutdifferent/Charactorise/blob/master/frame_based_data_loader.ipynb\" target=\"_parent\"><img src=\"https://colab.research.google.com/assets/colab-badge.svg\" alt=\"Open In Colab\"/></a>"
      ]
    },
    {
      "cell_type": "markdown",
      "metadata": {
        "id": "b-Df3PH7WZEx"
      },
      "source": [
        "# Frame Based Data Loader"
      ]
    },
    {
      "attachments": {},
      "cell_type": "markdown",
      "metadata": {},
      "source": [
        "## Full Data Load"
      ]
    },
    {
      "cell_type": "code",
      "execution_count": 1,
      "metadata": {
        "colab": {
          "base_uri": "https://localhost:8080/"
        },
        "id": "h0TLU50xWHUK",
        "outputId": "5cf8b704-0b05-4c5e-8890-73cbad69e5e0"
      },
      "outputs": [],
      "source": [
        "# %pip install tensorflow imutils numpy imageio opencv-python tqdm\n",
        "\n",
        "# from imutils import paths\n",
        "from tqdm import tqdm\n",
        "import pandas as pd \n",
        "# import numpy as np\n",
        "import shutil\n",
        "# import cv2\n",
        "import os"
      ]
    },
    {
      "attachments": {},
      "cell_type": "markdown",
      "metadata": {
        "id": "18L2LHp-WiOe"
      },
      "source": [
        "### Data collection\n",
        "\n",
        "Will download\n",
        "- UCF101.rar\n",
        "- UCF101TrainTestSplits-RecognitionTask.zip\n",
        "\n",
        "before unzipping them to:\n",
        "- ucfTrainTestlist/\n",
        "- data/\n",
        "\n",
        "only needs to be run once"
      ]
    },
    {
      "cell_type": "code",
      "execution_count": 2,
      "metadata": {
        "id": "mge57YW3XLvN"
      },
      "outputs": [],
      "source": [
        "# !wget -q --no-check-certificate https://www.crcv.ucf.edu/data/UCF101/UCF101.rar\n",
        "# !wget -q --no-check-certificate https://www.crcv.ucf.edu/data/UCF101/UCF101TrainTestSplits-RecognitionTask.zip"
      ]
    },
    {
      "attachments": {},
      "cell_type": "markdown",
      "metadata": {},
      "source": [
        "unzip the files:\n",
        "\n",
        "for macs:\n",
        "*!brew install rar*\n",
        "\n",
        "then allow the app to run\n",
        "\n",
        "-> apple button\n",
        "\n",
        "-> system settings\n",
        "\n",
        "-> privacy & secruity\n",
        "\n",
        "-> scroll to bottom and click"
      ]
    },
    {
      "cell_type": "code",
      "execution_count": 3,
      "metadata": {
        "id": "J2U4-mv9XMT9"
      },
      "outputs": [],
      "source": [
        "%%capture\n",
        "\n",
        "## for macs:\n",
        "# !brew install rar\n",
        "\n",
        "!unrar e UCF101.rar data/\n",
        "!unzip -qq UCF101TrainTestSplits-RecognitionTask.zip"
      ]
    },
    {
      "attachments": {},
      "cell_type": "markdown",
      "metadata": {},
      "source": [
        "## Metadata Loading"
      ]
    },
    {
      "cell_type": "code",
      "execution_count": 3,
      "metadata": {
        "colab": {
          "base_uri": "https://localhost:8080/",
          "height": 206
        },
        "id": "_aVAIy9diCF2",
        "outputId": "08751d2f-8330-4265-e07e-7868898a5b69"
      },
      "outputs": [
        {
          "data": {
            "text/html": [
              "<div>\n",
              "<style scoped>\n",
              "    .dataframe tbody tr th:only-of-type {\n",
              "        vertical-align: middle;\n",
              "    }\n",
              "\n",
              "    .dataframe tbody tr th {\n",
              "        vertical-align: top;\n",
              "    }\n",
              "\n",
              "    .dataframe thead th {\n",
              "        text-align: right;\n",
              "    }\n",
              "</style>\n",
              "<table border=\"1\" class=\"dataframe\">\n",
              "  <thead>\n",
              "    <tr style=\"text-align: right;\">\n",
              "      <th></th>\n",
              "      <th>video_name</th>\n",
              "    </tr>\n",
              "  </thead>\n",
              "  <tbody>\n",
              "    <tr>\n",
              "      <th>0</th>\n",
              "      <td>ApplyEyeMakeup/v_ApplyEyeMakeup_g08_c01.avi 1</td>\n",
              "    </tr>\n",
              "    <tr>\n",
              "      <th>1</th>\n",
              "      <td>ApplyEyeMakeup/v_ApplyEyeMakeup_g08_c02.avi 1</td>\n",
              "    </tr>\n",
              "    <tr>\n",
              "      <th>2</th>\n",
              "      <td>ApplyEyeMakeup/v_ApplyEyeMakeup_g08_c03.avi 1</td>\n",
              "    </tr>\n",
              "    <tr>\n",
              "      <th>3</th>\n",
              "      <td>ApplyEyeMakeup/v_ApplyEyeMakeup_g08_c04.avi 1</td>\n",
              "    </tr>\n",
              "    <tr>\n",
              "      <th>4</th>\n",
              "      <td>ApplyEyeMakeup/v_ApplyEyeMakeup_g08_c05.avi 1</td>\n",
              "    </tr>\n",
              "  </tbody>\n",
              "</table>\n",
              "</div>"
            ],
            "text/plain": [
              "                                      video_name\n",
              "0  ApplyEyeMakeup/v_ApplyEyeMakeup_g08_c01.avi 1\n",
              "1  ApplyEyeMakeup/v_ApplyEyeMakeup_g08_c02.avi 1\n",
              "2  ApplyEyeMakeup/v_ApplyEyeMakeup_g08_c03.avi 1\n",
              "3  ApplyEyeMakeup/v_ApplyEyeMakeup_g08_c04.avi 1\n",
              "4  ApplyEyeMakeup/v_ApplyEyeMakeup_g08_c05.avi 1"
            ]
          },
          "execution_count": 3,
          "metadata": {},
          "output_type": "execute_result"
        }
      ],
      "source": [
        "# Open the .txt file which have names of training videos\n",
        "f = open(\"ucfTrainTestlist/trainlist01.txt\", \"r\")\n",
        "temp = f.read()\n",
        "videos = temp.split('\\n')\n",
        "\n",
        "# Create a dataframe having video names\n",
        "train = pd.DataFrame()\n",
        "train['video_name'] = videos\n",
        "train = train[:-1]\n",
        "train.head()"
      ]
    },
    {
      "cell_type": "code",
      "execution_count": 4,
      "metadata": {
        "colab": {
          "base_uri": "https://localhost:8080/",
          "height": 206
        },
        "id": "OjgGPk4gqOPM",
        "outputId": "d082bc79-eb03-49df-ff30-c222a6c95892"
      },
      "outputs": [
        {
          "data": {
            "text/html": [
              "<div>\n",
              "<style scoped>\n",
              "    .dataframe tbody tr th:only-of-type {\n",
              "        vertical-align: middle;\n",
              "    }\n",
              "\n",
              "    .dataframe tbody tr th {\n",
              "        vertical-align: top;\n",
              "    }\n",
              "\n",
              "    .dataframe thead th {\n",
              "        text-align: right;\n",
              "    }\n",
              "</style>\n",
              "<table border=\"1\" class=\"dataframe\">\n",
              "  <thead>\n",
              "    <tr style=\"text-align: right;\">\n",
              "      <th></th>\n",
              "      <th>video_name</th>\n",
              "    </tr>\n",
              "  </thead>\n",
              "  <tbody>\n",
              "    <tr>\n",
              "      <th>0</th>\n",
              "      <td>ApplyEyeMakeup/v_ApplyEyeMakeup_g01_c01.avi</td>\n",
              "    </tr>\n",
              "    <tr>\n",
              "      <th>1</th>\n",
              "      <td>ApplyEyeMakeup/v_ApplyEyeMakeup_g01_c02.avi</td>\n",
              "    </tr>\n",
              "    <tr>\n",
              "      <th>2</th>\n",
              "      <td>ApplyEyeMakeup/v_ApplyEyeMakeup_g01_c03.avi</td>\n",
              "    </tr>\n",
              "    <tr>\n",
              "      <th>3</th>\n",
              "      <td>ApplyEyeMakeup/v_ApplyEyeMakeup_g01_c04.avi</td>\n",
              "    </tr>\n",
              "    <tr>\n",
              "      <th>4</th>\n",
              "      <td>ApplyEyeMakeup/v_ApplyEyeMakeup_g01_c05.avi</td>\n",
              "    </tr>\n",
              "  </tbody>\n",
              "</table>\n",
              "</div>"
            ],
            "text/plain": [
              "                                    video_name\n",
              "0  ApplyEyeMakeup/v_ApplyEyeMakeup_g01_c01.avi\n",
              "1  ApplyEyeMakeup/v_ApplyEyeMakeup_g01_c02.avi\n",
              "2  ApplyEyeMakeup/v_ApplyEyeMakeup_g01_c03.avi\n",
              "3  ApplyEyeMakeup/v_ApplyEyeMakeup_g01_c04.avi\n",
              "4  ApplyEyeMakeup/v_ApplyEyeMakeup_g01_c05.avi"
            ]
          },
          "execution_count": 4,
          "metadata": {},
          "output_type": "execute_result"
        }
      ],
      "source": [
        "# Open the .txt file which have names of test videos\n",
        "with open(\"ucfTrainTestlist/testlist01.txt\", \"r\") as f:\n",
        "    temp = f.read()\n",
        "videos = temp.split(\"\\n\")\n",
        "\n",
        "# Create a dataframe having video names\n",
        "test = pd.DataFrame()\n",
        "test[\"video_name\"] = videos\n",
        "test = test[:-1]\n",
        "test.head()"
      ]
    },
    {
      "cell_type": "markdown",
      "metadata": {},
      "source": [
        "## Utility Functions"
      ]
    },
    {
      "cell_type": "code",
      "execution_count": 14,
      "metadata": {
        "id": "gcCUdMiTqRSa"
      },
      "outputs": [],
      "source": [
        "def extract_tag(video_path):\n",
        "    return video_path.split(\"/\")[0]\n",
        "\n",
        "def separate_video_name(video_name):\n",
        "    return video_name.split(\"/\")[1]\n",
        "\n",
        "def rectify_video_name(video_name):\n",
        "    return video_name.split(\" \")[0]\n",
        "\n",
        "def move_videos(df, output_dir):\n",
        "    if not os.path.exists(\"data\"):\n",
        "        os.mkdir(\"data\")\n",
        "    if not os.path.exists(output_dir):\n",
        "        os.mkdir(output_dir)\n",
        "    for i in tqdm(range(df.shape[0])):\n",
        "        videoFile = df['video_name'][i].split(\"/\")[-1]\n",
        "        videoPath = os.path.join(\"data\", videoFile)\n",
        "        shutil.copy2(videoPath, output_dir)\n",
        "    print()\n",
        "    print(f\"Total videos: {len(os.listdir(output_dir))}\")"
      ]
    },
    {
      "attachments": {},
      "cell_type": "markdown",
      "metadata": {
        "id": "9fWCSRHGquy8"
      },
      "source": [
        "## DataFrame Preparation"
      ]
    },
    {
      "cell_type": "code",
      "execution_count": 6,
      "metadata": {
        "colab": {
          "base_uri": "https://localhost:8080/",
          "height": 206
        },
        "id": "MWPZL19sqVHY",
        "outputId": "1e2956cc-cf93-4410-e735-885c3444833e"
      },
      "outputs": [
        {
          "data": {
            "text/html": [
              "<div>\n",
              "<style scoped>\n",
              "    .dataframe tbody tr th:only-of-type {\n",
              "        vertical-align: middle;\n",
              "    }\n",
              "\n",
              "    .dataframe tbody tr th {\n",
              "        vertical-align: top;\n",
              "    }\n",
              "\n",
              "    .dataframe thead th {\n",
              "        text-align: right;\n",
              "    }\n",
              "</style>\n",
              "<table border=\"1\" class=\"dataframe\">\n",
              "  <thead>\n",
              "    <tr style=\"text-align: right;\">\n",
              "      <th></th>\n",
              "      <th>video_name</th>\n",
              "      <th>tag</th>\n",
              "    </tr>\n",
              "  </thead>\n",
              "  <tbody>\n",
              "    <tr>\n",
              "      <th>0</th>\n",
              "      <td>v_ApplyEyeMakeup_g08_c01.avi 1</td>\n",
              "      <td>ApplyEyeMakeup</td>\n",
              "    </tr>\n",
              "    <tr>\n",
              "      <th>1</th>\n",
              "      <td>v_ApplyEyeMakeup_g08_c02.avi 1</td>\n",
              "      <td>ApplyEyeMakeup</td>\n",
              "    </tr>\n",
              "    <tr>\n",
              "      <th>2</th>\n",
              "      <td>v_ApplyEyeMakeup_g08_c03.avi 1</td>\n",
              "      <td>ApplyEyeMakeup</td>\n",
              "    </tr>\n",
              "    <tr>\n",
              "      <th>3</th>\n",
              "      <td>v_ApplyEyeMakeup_g08_c04.avi 1</td>\n",
              "      <td>ApplyEyeMakeup</td>\n",
              "    </tr>\n",
              "    <tr>\n",
              "      <th>4</th>\n",
              "      <td>v_ApplyEyeMakeup_g08_c05.avi 1</td>\n",
              "      <td>ApplyEyeMakeup</td>\n",
              "    </tr>\n",
              "  </tbody>\n",
              "</table>\n",
              "</div>"
            ],
            "text/plain": [
              "                       video_name             tag\n",
              "0  v_ApplyEyeMakeup_g08_c01.avi 1  ApplyEyeMakeup\n",
              "1  v_ApplyEyeMakeup_g08_c02.avi 1  ApplyEyeMakeup\n",
              "2  v_ApplyEyeMakeup_g08_c03.avi 1  ApplyEyeMakeup\n",
              "3  v_ApplyEyeMakeup_g08_c04.avi 1  ApplyEyeMakeup\n",
              "4  v_ApplyEyeMakeup_g08_c05.avi 1  ApplyEyeMakeup"
            ]
          },
          "execution_count": 6,
          "metadata": {},
          "output_type": "execute_result"
        }
      ],
      "source": [
        "train[\"tag\"] = train[\"video_name\"].apply(extract_tag)\n",
        "train[\"video_name\"] = train[\"video_name\"].apply(separate_video_name)\n",
        "train.head()"
      ]
    },
    {
      "cell_type": "code",
      "execution_count": 7,
      "metadata": {
        "colab": {
          "base_uri": "https://localhost:8080/",
          "height": 206
        },
        "id": "FTIDGBwPqXXB",
        "outputId": "5dcba155-7e3f-4e42-ab6c-47d91c9b5ef5"
      },
      "outputs": [
        {
          "data": {
            "text/html": [
              "<div>\n",
              "<style scoped>\n",
              "    .dataframe tbody tr th:only-of-type {\n",
              "        vertical-align: middle;\n",
              "    }\n",
              "\n",
              "    .dataframe tbody tr th {\n",
              "        vertical-align: top;\n",
              "    }\n",
              "\n",
              "    .dataframe thead th {\n",
              "        text-align: right;\n",
              "    }\n",
              "</style>\n",
              "<table border=\"1\" class=\"dataframe\">\n",
              "  <thead>\n",
              "    <tr style=\"text-align: right;\">\n",
              "      <th></th>\n",
              "      <th>video_name</th>\n",
              "      <th>tag</th>\n",
              "    </tr>\n",
              "  </thead>\n",
              "  <tbody>\n",
              "    <tr>\n",
              "      <th>0</th>\n",
              "      <td>v_ApplyEyeMakeup_g08_c01.avi</td>\n",
              "      <td>ApplyEyeMakeup</td>\n",
              "    </tr>\n",
              "    <tr>\n",
              "      <th>1</th>\n",
              "      <td>v_ApplyEyeMakeup_g08_c02.avi</td>\n",
              "      <td>ApplyEyeMakeup</td>\n",
              "    </tr>\n",
              "    <tr>\n",
              "      <th>2</th>\n",
              "      <td>v_ApplyEyeMakeup_g08_c03.avi</td>\n",
              "      <td>ApplyEyeMakeup</td>\n",
              "    </tr>\n",
              "    <tr>\n",
              "      <th>3</th>\n",
              "      <td>v_ApplyEyeMakeup_g08_c04.avi</td>\n",
              "      <td>ApplyEyeMakeup</td>\n",
              "    </tr>\n",
              "    <tr>\n",
              "      <th>4</th>\n",
              "      <td>v_ApplyEyeMakeup_g08_c05.avi</td>\n",
              "      <td>ApplyEyeMakeup</td>\n",
              "    </tr>\n",
              "  </tbody>\n",
              "</table>\n",
              "</div>"
            ],
            "text/plain": [
              "                     video_name             tag\n",
              "0  v_ApplyEyeMakeup_g08_c01.avi  ApplyEyeMakeup\n",
              "1  v_ApplyEyeMakeup_g08_c02.avi  ApplyEyeMakeup\n",
              "2  v_ApplyEyeMakeup_g08_c03.avi  ApplyEyeMakeup\n",
              "3  v_ApplyEyeMakeup_g08_c04.avi  ApplyEyeMakeup\n",
              "4  v_ApplyEyeMakeup_g08_c05.avi  ApplyEyeMakeup"
            ]
          },
          "execution_count": 7,
          "metadata": {},
          "output_type": "execute_result"
        }
      ],
      "source": [
        "train[\"video_name\"] = train[\"video_name\"].apply(rectify_video_name)\n",
        "train.head()"
      ]
    },
    {
      "cell_type": "code",
      "execution_count": 8,
      "metadata": {
        "colab": {
          "base_uri": "https://localhost:8080/",
          "height": 206
        },
        "id": "NFSFxmUmqZvr",
        "outputId": "1a5604c3-8338-443b-f6a1-5e0cc6c692dc"
      },
      "outputs": [
        {
          "data": {
            "text/html": [
              "<div>\n",
              "<style scoped>\n",
              "    .dataframe tbody tr th:only-of-type {\n",
              "        vertical-align: middle;\n",
              "    }\n",
              "\n",
              "    .dataframe tbody tr th {\n",
              "        vertical-align: top;\n",
              "    }\n",
              "\n",
              "    .dataframe thead th {\n",
              "        text-align: right;\n",
              "    }\n",
              "</style>\n",
              "<table border=\"1\" class=\"dataframe\">\n",
              "  <thead>\n",
              "    <tr style=\"text-align: right;\">\n",
              "      <th></th>\n",
              "      <th>video_name</th>\n",
              "      <th>tag</th>\n",
              "    </tr>\n",
              "  </thead>\n",
              "  <tbody>\n",
              "    <tr>\n",
              "      <th>0</th>\n",
              "      <td>v_ApplyEyeMakeup_g01_c01.avi</td>\n",
              "      <td>ApplyEyeMakeup</td>\n",
              "    </tr>\n",
              "    <tr>\n",
              "      <th>1</th>\n",
              "      <td>v_ApplyEyeMakeup_g01_c02.avi</td>\n",
              "      <td>ApplyEyeMakeup</td>\n",
              "    </tr>\n",
              "    <tr>\n",
              "      <th>2</th>\n",
              "      <td>v_ApplyEyeMakeup_g01_c03.avi</td>\n",
              "      <td>ApplyEyeMakeup</td>\n",
              "    </tr>\n",
              "    <tr>\n",
              "      <th>3</th>\n",
              "      <td>v_ApplyEyeMakeup_g01_c04.avi</td>\n",
              "      <td>ApplyEyeMakeup</td>\n",
              "    </tr>\n",
              "    <tr>\n",
              "      <th>4</th>\n",
              "      <td>v_ApplyEyeMakeup_g01_c05.avi</td>\n",
              "      <td>ApplyEyeMakeup</td>\n",
              "    </tr>\n",
              "  </tbody>\n",
              "</table>\n",
              "</div>"
            ],
            "text/plain": [
              "                     video_name             tag\n",
              "0  v_ApplyEyeMakeup_g01_c01.avi  ApplyEyeMakeup\n",
              "1  v_ApplyEyeMakeup_g01_c02.avi  ApplyEyeMakeup\n",
              "2  v_ApplyEyeMakeup_g01_c03.avi  ApplyEyeMakeup\n",
              "3  v_ApplyEyeMakeup_g01_c04.avi  ApplyEyeMakeup\n",
              "4  v_ApplyEyeMakeup_g01_c05.avi  ApplyEyeMakeup"
            ]
          },
          "execution_count": 8,
          "metadata": {},
          "output_type": "execute_result"
        }
      ],
      "source": [
        "test[\"tag\"] = test[\"video_name\"].apply(extract_tag)\n",
        "test[\"video_name\"] = test[\"video_name\"].apply(separate_video_name)\n",
        "test.head()"
      ]
    },
    {
      "cell_type": "markdown",
      "metadata": {
        "id": "kDCzwWxiqomk"
      },
      "source": [
        "## Filtering Top-n Actions"
      ]
    },
    {
      "cell_type": "code",
      "execution_count": 9,
      "metadata": {
        "colab": {
          "base_uri": "https://localhost:8080/"
        },
        "id": "pg1qPQ-9qb1H",
        "outputId": "c9015b55-8889-4098-d7a5-7fb75baca966"
      },
      "outputs": [
        {
          "data": {
            "text/plain": [
              "((1171, 2), (459, 2))"
            ]
          },
          "execution_count": 9,
          "metadata": {},
          "output_type": "execute_result"
        }
      ],
      "source": [
        "n = 10\n",
        "topNActs = train[\"tag\"].value_counts().nlargest(n).reset_index()[\"index\"].tolist()\n",
        "train_new = train[train[\"tag\"].isin(topNActs)]\n",
        "test_new = test[test[\"tag\"].isin(topNActs)]\n",
        "train_new.shape, test_new.shape"
      ]
    },
    {
      "cell_type": "code",
      "execution_count": 10,
      "metadata": {
        "id": "nuI6BLKIs-G2"
      },
      "outputs": [],
      "source": [
        "train_new.reset_index(inplace = True,drop = True)\n",
        "test_new.reset_index(inplace = True,drop = True)"
      ]
    },
    {
      "cell_type": "code",
      "execution_count": 16,
      "metadata": {},
      "outputs": [
        {
          "data": {
            "text/html": [
              "<div>\n",
              "<style scoped>\n",
              "    .dataframe tbody tr th:only-of-type {\n",
              "        vertical-align: middle;\n",
              "    }\n",
              "\n",
              "    .dataframe tbody tr th {\n",
              "        vertical-align: top;\n",
              "    }\n",
              "\n",
              "    .dataframe thead th {\n",
              "        text-align: right;\n",
              "    }\n",
              "</style>\n",
              "<table border=\"1\" class=\"dataframe\">\n",
              "  <thead>\n",
              "    <tr style=\"text-align: right;\">\n",
              "      <th></th>\n",
              "      <th>video_name</th>\n",
              "      <th>tag</th>\n",
              "    </tr>\n",
              "  </thead>\n",
              "  <tbody>\n",
              "    <tr>\n",
              "      <th>0</th>\n",
              "      <td>v_BoxingPunchingBag_g08_c01.avi</td>\n",
              "      <td>BoxingPunchingBag</td>\n",
              "    </tr>\n",
              "    <tr>\n",
              "      <th>1</th>\n",
              "      <td>v_BoxingPunchingBag_g08_c02.avi</td>\n",
              "      <td>BoxingPunchingBag</td>\n",
              "    </tr>\n",
              "    <tr>\n",
              "      <th>2</th>\n",
              "      <td>v_BoxingPunchingBag_g08_c03.avi</td>\n",
              "      <td>BoxingPunchingBag</td>\n",
              "    </tr>\n",
              "    <tr>\n",
              "      <th>3</th>\n",
              "      <td>v_BoxingPunchingBag_g08_c04.avi</td>\n",
              "      <td>BoxingPunchingBag</td>\n",
              "    </tr>\n",
              "    <tr>\n",
              "      <th>4</th>\n",
              "      <td>v_BoxingPunchingBag_g08_c05.avi</td>\n",
              "      <td>BoxingPunchingBag</td>\n",
              "    </tr>\n",
              "    <tr>\n",
              "      <th>...</th>\n",
              "      <td>...</td>\n",
              "      <td>...</td>\n",
              "    </tr>\n",
              "    <tr>\n",
              "      <th>1166</th>\n",
              "      <td>v_TennisSwing_g25_c02.avi</td>\n",
              "      <td>TennisSwing</td>\n",
              "    </tr>\n",
              "    <tr>\n",
              "      <th>1167</th>\n",
              "      <td>v_TennisSwing_g25_c03.avi</td>\n",
              "      <td>TennisSwing</td>\n",
              "    </tr>\n",
              "    <tr>\n",
              "      <th>1168</th>\n",
              "      <td>v_TennisSwing_g25_c04.avi</td>\n",
              "      <td>TennisSwing</td>\n",
              "    </tr>\n",
              "    <tr>\n",
              "      <th>1169</th>\n",
              "      <td>v_TennisSwing_g25_c05.avi</td>\n",
              "      <td>TennisSwing</td>\n",
              "    </tr>\n",
              "    <tr>\n",
              "      <th>1170</th>\n",
              "      <td>v_TennisSwing_g25_c06.avi</td>\n",
              "      <td>TennisSwing</td>\n",
              "    </tr>\n",
              "  </tbody>\n",
              "</table>\n",
              "<p>1171 rows × 2 columns</p>\n",
              "</div>"
            ],
            "text/plain": [
              "                           video_name                tag\n",
              "0     v_BoxingPunchingBag_g08_c01.avi  BoxingPunchingBag\n",
              "1     v_BoxingPunchingBag_g08_c02.avi  BoxingPunchingBag\n",
              "2     v_BoxingPunchingBag_g08_c03.avi  BoxingPunchingBag\n",
              "3     v_BoxingPunchingBag_g08_c04.avi  BoxingPunchingBag\n",
              "4     v_BoxingPunchingBag_g08_c05.avi  BoxingPunchingBag\n",
              "...                               ...                ...\n",
              "1166        v_TennisSwing_g25_c02.avi        TennisSwing\n",
              "1167        v_TennisSwing_g25_c03.avi        TennisSwing\n",
              "1168        v_TennisSwing_g25_c04.avi        TennisSwing\n",
              "1169        v_TennisSwing_g25_c05.avi        TennisSwing\n",
              "1170        v_TennisSwing_g25_c06.avi        TennisSwing\n",
              "\n",
              "[1171 rows x 2 columns]"
            ]
          },
          "execution_count": 16,
          "metadata": {},
          "output_type": "execute_result"
        }
      ],
      "source": [
        "train_new"
      ]
    },
    {
      "cell_type": "code",
      "execution_count": 15,
      "metadata": {
        "colab": {
          "base_uri": "https://localhost:8080/"
        },
        "id": "EiFAhEQ0qe33",
        "outputId": "11995d80-c941-4e2a-9872-0d5e04499977"
      },
      "outputs": [
        {
          "name": "stderr",
          "output_type": "stream",
          "text": [
            "  0%|          | 0/1171 [00:00<?, ?it/s]\n"
          ]
        },
        {
          "ename": "FileNotFoundError",
          "evalue": "[Errno 2] No such file or directory: 'data/v_BoxingPunchingBag_g08_c01.avi'",
          "output_type": "error",
          "traceback": [
            "\u001b[0;31m---------------------------------------------------------------------------\u001b[0m",
            "\u001b[0;31mFileNotFoundError\u001b[0m                         Traceback (most recent call last)",
            "Cell \u001b[0;32mIn[15], line 1\u001b[0m\n\u001b[0;32m----> 1\u001b[0m move_videos(train_new, \u001b[39m\"\u001b[39;49m\u001b[39mtrain\u001b[39;49m\u001b[39m\"\u001b[39;49m)\n\u001b[1;32m      2\u001b[0m move_videos(test_new, \u001b[39m\"\u001b[39m\u001b[39mtest\u001b[39m\u001b[39m\"\u001b[39m)\n",
            "Cell \u001b[0;32mIn[14], line 18\u001b[0m, in \u001b[0;36mmove_videos\u001b[0;34m(df, output_dir)\u001b[0m\n\u001b[1;32m     16\u001b[0m     videoFile \u001b[39m=\u001b[39m df[\u001b[39m'\u001b[39m\u001b[39mvideo_name\u001b[39m\u001b[39m'\u001b[39m][i]\u001b[39m.\u001b[39msplit(\u001b[39m\"\u001b[39m\u001b[39m/\u001b[39m\u001b[39m\"\u001b[39m)[\u001b[39m-\u001b[39m\u001b[39m1\u001b[39m]\n\u001b[1;32m     17\u001b[0m     videoPath \u001b[39m=\u001b[39m os\u001b[39m.\u001b[39mpath\u001b[39m.\u001b[39mjoin(\u001b[39m\"\u001b[39m\u001b[39mdata\u001b[39m\u001b[39m\"\u001b[39m, videoFile)\n\u001b[0;32m---> 18\u001b[0m     shutil\u001b[39m.\u001b[39;49mcopy2(videoPath, output_dir)\n\u001b[1;32m     19\u001b[0m \u001b[39mprint\u001b[39m()\n\u001b[1;32m     20\u001b[0m \u001b[39mprint\u001b[39m(\u001b[39mf\u001b[39m\u001b[39m\"\u001b[39m\u001b[39mTotal videos: \u001b[39m\u001b[39m{\u001b[39;00m\u001b[39mlen\u001b[39m(os\u001b[39m.\u001b[39mlistdir(output_dir))\u001b[39m}\u001b[39;00m\u001b[39m\"\u001b[39m)\n",
            "File \u001b[0;32m~/.pyenv/versions/3.10.0/lib/python3.10/shutil.py:434\u001b[0m, in \u001b[0;36mcopy2\u001b[0;34m(src, dst, follow_symlinks)\u001b[0m\n\u001b[1;32m    432\u001b[0m \u001b[39mif\u001b[39;00m os\u001b[39m.\u001b[39mpath\u001b[39m.\u001b[39misdir(dst):\n\u001b[1;32m    433\u001b[0m     dst \u001b[39m=\u001b[39m os\u001b[39m.\u001b[39mpath\u001b[39m.\u001b[39mjoin(dst, os\u001b[39m.\u001b[39mpath\u001b[39m.\u001b[39mbasename(src))\n\u001b[0;32m--> 434\u001b[0m copyfile(src, dst, follow_symlinks\u001b[39m=\u001b[39;49mfollow_symlinks)\n\u001b[1;32m    435\u001b[0m copystat(src, dst, follow_symlinks\u001b[39m=\u001b[39mfollow_symlinks)\n\u001b[1;32m    436\u001b[0m \u001b[39mreturn\u001b[39;00m dst\n",
            "File \u001b[0;32m~/.pyenv/versions/3.10.0/lib/python3.10/shutil.py:254\u001b[0m, in \u001b[0;36mcopyfile\u001b[0;34m(src, dst, follow_symlinks)\u001b[0m\n\u001b[1;32m    252\u001b[0m     os\u001b[39m.\u001b[39msymlink(os\u001b[39m.\u001b[39mreadlink(src), dst)\n\u001b[1;32m    253\u001b[0m \u001b[39melse\u001b[39;00m:\n\u001b[0;32m--> 254\u001b[0m     \u001b[39mwith\u001b[39;00m \u001b[39mopen\u001b[39;49m(src, \u001b[39m'\u001b[39;49m\u001b[39mrb\u001b[39;49m\u001b[39m'\u001b[39;49m) \u001b[39mas\u001b[39;00m fsrc:\n\u001b[1;32m    255\u001b[0m         \u001b[39mtry\u001b[39;00m:\n\u001b[1;32m    256\u001b[0m             \u001b[39mwith\u001b[39;00m \u001b[39mopen\u001b[39m(dst, \u001b[39m'\u001b[39m\u001b[39mwb\u001b[39m\u001b[39m'\u001b[39m) \u001b[39mas\u001b[39;00m fdst:\n\u001b[1;32m    257\u001b[0m                 \u001b[39m# macOS\u001b[39;00m\n",
            "\u001b[0;31mFileNotFoundError\u001b[0m: [Errno 2] No such file or directory: 'data/v_BoxingPunchingBag_g08_c01.avi'"
          ]
        }
      ],
      "source": [
        "def move_videos(df, output_dir):\n",
        "    if not os.path.exists(\"data\"):\n",
        "        os.mkdir(\"data\")\n",
        "    if not os.path.exists(output_dir):\n",
        "        os.mkdir(output_dir)\n",
        "    for i in tqdm(range(df.shape[0])):\n",
        "        videoFile = df['video_name'][i].split(\"/\")[-1]\n",
        "        videoPath = os.path.join(\"data\", videoFile)\n",
        "        shutil.copy2(videoPath, output_dir)\n",
        "    print()\n",
        "    print(f\"Total videos: {len(os.listdir(output_dir))}\")\n",
        "\n",
        "move_videos(train_new, \"train\")\n",
        "move_videos(test_new, \"test\")"
      ]
    },
    {
      "cell_type": "code",
      "execution_count": null,
      "metadata": {
        "id": "9-6z77vRqhqr"
      },
      "outputs": [],
      "source": [
        "train_new.to_csv(\"train.csv\", index=False)\n",
        "test_new.to_csv(\"test.csv\", index=False)"
      ]
    },
    {
      "cell_type": "code",
      "execution_count": null,
      "metadata": {
        "id": "uzL-H84fvHy9"
      },
      "outputs": [],
      "source": []
    }
  ],
  "metadata": {
    "colab": {
      "authorship_tag": "ABX9TyM2lhoUG6CmteDqEBvf0IUT",
      "include_colab_link": true,
      "provenance": []
    },
    "kernelspec": {
      "display_name": ".env",
      "language": "python",
      "name": "python3"
    },
    "language_info": {
      "codemirror_mode": {
        "name": "ipython",
        "version": 3
      },
      "file_extension": ".py",
      "mimetype": "text/x-python",
      "name": "python",
      "nbconvert_exporter": "python",
      "pygments_lexer": "ipython3",
      "version": "3.10.0"
    },
    "vscode": {
      "interpreter": {
        "hash": "45a5da4a9df855520397cd5b49ce03252742ecec8fe92ef1beabde7eee251817"
      }
    }
  },
  "nbformat": 4,
  "nbformat_minor": 0
}
