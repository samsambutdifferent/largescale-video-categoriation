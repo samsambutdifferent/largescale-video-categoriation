{
 "cells": [
  {
   "cell_type": "code",
   "execution_count": 1,
   "metadata": {},
   "outputs": [
    {
     "ename": "",
     "evalue": "",
     "output_type": "error",
     "traceback": [
      "\u001b[1;31mThe Kernel crashed while executing code in the the current cell or a previous cell. Please review the code in the cell(s) to identify a possible cause of the failure. Click <a href='https://aka.ms/vscodeJupyterKernelCrash'>here</a> for more info. View Jupyter <a href='command:jupyter.viewOutput'>log</a> for further details."
     ]
    },
    {
     "ename": "",
     "evalue": "",
     "output_type": "error",
     "traceback": [
      "\u001b[1;31mCanceled future for execute_request message before replies were done"
     ]
    }
   ],
   "source": [
    "import tensorflow as tf\n",
    "# import pandas as pd\n",
    "# from IPython.display import YouTubeVideo\n",
    "# from google.cloud import storage, exceptions"
   ]
  },
  {
   "cell_type": "code",
   "execution_count": 1,
   "metadata": {},
   "outputs": [],
   "source": [
    "record_prefix_path = \"~/data/yt8m/video\"\n",
    "record = record_prefix_path + \"train00.tfrecord\"\n",
    "vid_ids = []\n",
    "labels = []\n",
    "rgb = []\n",
    "audio = []"
   ]
  },
  {
   "cell_type": "code",
   "execution_count": 2,
   "metadata": {},
   "outputs": [
    {
     "ename": "NameError",
     "evalue": "name 'tf' is not defined",
     "output_type": "error",
     "traceback": [
      "\u001b[0;31m---------------------------------------------------------------------------\u001b[0m",
      "\u001b[0;31mNameError\u001b[0m                                 Traceback (most recent call last)",
      "Cell \u001b[0;32mIn[2], line 1\u001b[0m\n\u001b[0;32m----> 1\u001b[0m \u001b[39mfor\u001b[39;00m example \u001b[39min\u001b[39;00m tf\u001b[39m.\u001b[39mcompat\u001b[39m.\u001b[39mv1\u001b[39m.\u001b[39mpython_io\u001b[39m.\u001b[39mtf_record_iterator(record):\n\u001b[1;32m      2\u001b[0m     seq_example \u001b[39m=\u001b[39m tf\u001b[39m.\u001b[39mtrain\u001b[39m.\u001b[39mExample\u001b[39m.\u001b[39mFromString(example)\n\u001b[1;32m      3\u001b[0m     vid_ids\u001b[39m.\u001b[39mappend(seq_example\u001b[39m.\u001b[39mfeatures\u001b[39m.\u001b[39mfeature[\u001b[39m'\u001b[39m\u001b[39mid\u001b[39m\u001b[39m'\u001b[39m]\n\u001b[1;32m      4\u001b[0m                    \u001b[39m.\u001b[39mbytes_list\u001b[39m.\u001b[39mvalue[\u001b[39m0\u001b[39m]\u001b[39m.\u001b[39mdecode(encoding\u001b[39m=\u001b[39m\u001b[39m'\u001b[39m\u001b[39mUTF-8\u001b[39m\u001b[39m'\u001b[39m))\n",
      "\u001b[0;31mNameError\u001b[0m: name 'tf' is not defined"
     ]
    }
   ],
   "source": [
    "for example in tf.compat.v1.python_io.tf_record_iterator(record):\n",
    "    seq_example = tf.train.Example.FromString(example)\n",
    "    vid_ids.append(seq_example.features.feature['id']\n",
    "                   .bytes_list.value[0].decode(encoding='UTF-8'))\n",
    "    labels.append(seq_example.features.feature['labels'] \n",
    "                   .int64_list.value)\n",
    "    rgb.append(seq_example.features.feature['mean_rgb']\n",
    "                   .float_list.value)\n",
    "    audio.append(seq_example.features.feature['mean_audio']\n",
    "                   .float_list.value)"
   ]
  },
  {
   "cell_type": "code",
   "execution_count": null,
   "metadata": {},
   "outputs": [],
   "source": []
  }
 ],
 "metadata": {
  "kernelspec": {
   "display_name": ".env",
   "language": "python",
   "name": "python3"
  },
  "language_info": {
   "codemirror_mode": {
    "name": "ipython",
    "version": 3
   },
   "file_extension": ".py",
   "mimetype": "text/x-python",
   "name": "python",
   "nbconvert_exporter": "python",
   "pygments_lexer": "ipython3",
   "version": "3.10.0 (default, Aug  2 2022, 13:59:03) [Clang 13.1.6 (clang-1316.0.21.2.5)]"
  },
  "orig_nbformat": 4,
  "vscode": {
   "interpreter": {
    "hash": "45a5da4a9df855520397cd5b49ce03252742ecec8fe92ef1beabde7eee251817"
   }
  }
 },
 "nbformat": 4,
 "nbformat_minor": 2
}
